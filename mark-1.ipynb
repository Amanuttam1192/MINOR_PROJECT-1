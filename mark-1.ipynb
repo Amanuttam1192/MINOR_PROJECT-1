{
 "cells": [
  {
   "cell_type": "code",
   "execution_count": 8,
   "metadata": {},
   "outputs": [
    {
     "name": "stderr",
     "output_type": "stream",
     "text": [
      "[nltk_data] Downloading package punkt to\n",
      "[nltk_data]     C:\\Users\\amanu\\AppData\\Roaming\\nltk_data...\n",
      "[nltk_data]   Package punkt is already up-to-date!\n",
      "[nltk_data] Downloading package wordnet to\n",
      "[nltk_data]     C:\\Users\\amanu\\AppData\\Roaming\\nltk_data...\n",
      "[nltk_data]   Package wordnet is already up-to-date!\n"
     ]
    }
   ],
   "source": [
    "from ctypes.wintypes import WORD\n",
    "from os import remove\n",
    "import numpy as np\n",
    "import nltk\n",
    "import string\n",
    "import random\n",
    "f=open('dataset.txt','r',errors = 'ignore')\n",
    "raw_doc=f.read()\n",
    "raw_doc=raw_doc.lower()\n",
    "nltk.download('punkt')\n",
    "nltk.download('wordnet')\n",
    "sent_tokens=nltk.sent_tokenize(raw_doc)\n",
    "word_tokens=nltk.word_tokenize(raw_doc)"
   ]
  },
  {
   "cell_type": "code",
   "execution_count": 19,
   "metadata": {},
   "outputs": [],
   "source": [
    "lemmer =nltk.stem.WordNetLemmatizer()\n",
    "def LemTokens(tokens):\n",
    "    return [lemmer.lemmatize(token) for token in tokens]\n",
    "    remove_punct_dict= dict((ord(punct), None) for punct in string.punctuation)\n",
    "def LemNormalize(text):\n",
    "    return LemTokens(nltk.word_tokenize(text.lower().translate(remove_punct_dict)))"
   ]
  },
  {
   "cell_type": "code",
   "execution_count": 14,
   "metadata": {},
   "outputs": [],
   "source": [
    "GREET_INPUTS = (\"hello\",\"hi\",\"greetings\",\"sup\",\"What's up\",\"hey\")\n",
    "GREET_RESPONSES = (\"hi\",\" hey\",\"+nods+\",\"hi there\",\"hello\",\"I am glad to be interviewing you\")\n",
    "def greet(sentence):\n",
    "    for word in sentence.split():\n",
    "        if word.lower() in GREET_INPUTS:\n",
    "            return random.choice(GREET_RESPONSES)"
   ]
  },
  {
   "cell_type": "code",
   "execution_count": 11,
   "metadata": {},
   "outputs": [],
   "source": [
    "from sklearn.feature_extraction.text import TfidfVectorizer\n",
    "from sklearn.metrics.pairwise import cosine_similarity"
   ]
  },
  {
   "cell_type": "code",
   "execution_count": 12,
   "metadata": {},
   "outputs": [],
   "source": [
    "def response(user_response):\n",
    "    robo1_response=''\n",
    "    TfidfVec=TfidfVectorizer(tokenizer=LemNormalize,stop_words='english')\n",
    "    tfidf= TfidfVec.fit_transform(sent_tokens)\n",
    "    vals=cosine_similarity(tfidf[-1],tfidf)\n",
    "    idx=vals.argsort()[0][-2]\n",
    "    flat= vals.flatten()\n",
    "    flat.sort()\n",
    "    req_tfidf = flat[-2]\n",
    "    if(req_tfidf==0):\n",
    "        robo1_response= robo1_response + \"I am sorry,I dont understand you\"\n",
    "        return robo1_response\n",
    "    else:\n",
    "        robo1_response=robo1_response + sent_tokens[idx]\n",
    "        return robo1_response   "
   ]
  },
  {
   "cell_type": "code",
   "execution_count": 26,
   "metadata": {},
   "outputs": [
    {
     "name": "stdout",
     "output_type": "stream",
     "text": [
      "Interviewer: Hello candidate nice to meet you,lets begin!,at first if any time you feel lacking,kindly type thanks and leave\n",
      "Interviewer:hope to see you next time\n",
      "Interviewer:hope to see you next time\n",
      "InterviewerI am glad to be interviewing you\n",
      "Interviewer+nods+\n",
      "Interviewerhi\n",
      "Interviewerhello\n"
     ]
    }
   ],
   "source": [
    "flag=True;\n",
    "print(\"Interviewer: Hello candidate nice to meet you,lets begin!,at first if any time you feel lacking,kindly type thanks and leave\")\n",
    "while(flag==True):\n",
    "    user_response= input(\"enter here\")\n",
    "    user_response=user_response.lower()\n",
    "    if(user_response!=\"thanks for your time\"):\n",
    "        if(user_response=='thanks' or user_response=='thank you'):\n",
    "            flag=False\n",
    "            print(\"Interviewer: you are welcome\")\n",
    "        else:\n",
    "            if(greet(user_response)!=None):\n",
    "                print(\"Interviewer\"+greet(user_response))\n",
    "            else:\n",
    "                sent_tokens.append(user_response)\n",
    "                word_tokens=word_tokens+nltk.word_tokenize(user_response)\n",
    "                final_words=list(set(word_tokens)) \n",
    "                print(\"Interviewer\",end=\"\")\n",
    "                print(response(user_response))\n",
    "                sent_tokens.remove(user_response)   \n",
    "    else:\n",
    "        flag==False\n",
    "        print(\"Interviewer:hope to see you next time\")                "
   ]
  }
 ],
 "metadata": {
  "kernelspec": {
   "display_name": "Python 3.9.7 64-bit (windows store)",
   "language": "python",
   "name": "python3"
  },
  "language_info": {
   "codemirror_mode": {
    "name": "ipython",
    "version": 3
   },
   "file_extension": ".py",
   "mimetype": "text/x-python",
   "name": "python",
   "nbconvert_exporter": "python",
   "pygments_lexer": "ipython3",
   "version": "3.9.7"
  },
  "orig_nbformat": 4,
  "vscode": {
   "interpreter": {
    "hash": "022f3decdf50ba757d3d5f81f9faf0993faa65285515545e0a58088f632f95fe"
   }
  }
 },
 "nbformat": 4,
 "nbformat_minor": 2
}
